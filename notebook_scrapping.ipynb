{
 "cells": [
  {
   "cell_type": "code",
   "execution_count": 1,
   "metadata": {
    "colab": {
     "base_uri": "https://localhost:8080/"
    },
    "executionInfo": {
     "elapsed": 6154,
     "status": "ok",
     "timestamp": 1743605102521,
     "user": {
      "displayName": "Alifia Mustika Sari A463XBF048",
      "userId": "17434318796519857702"
     },
     "user_tz": -420
    },
    "id": "0LFcs3Py4TTG",
    "outputId": "b266e3f3-1605-4623-d61c-22b5cfcbe393"
   },
   "outputs": [
    {
     "name": "stdout",
     "output_type": "stream",
     "text": [
      "Collecting google-play-scraper\n",
      "  Downloading google_play_scraper-1.2.7-py3-none-any.whl.metadata (50 kB)\n",
      "\u001b[?25l     \u001b[90m━━━━━━━━━━━━━━━━━━━━━━━━━━━━━━━━━━━━━━━━\u001b[0m \u001b[32m0.0/50.2 kB\u001b[0m \u001b[31m?\u001b[0m eta \u001b[36m-:--:--\u001b[0m\r\u001b[2K     \u001b[90m━━━━━━━━━━━━━━━━━━━━━━━━━━━━━━━━━━━━━━━━\u001b[0m \u001b[32m50.2/50.2 kB\u001b[0m \u001b[31m2.6 MB/s\u001b[0m eta \u001b[36m0:00:00\u001b[0m\n",
      "\u001b[?25hDownloading google_play_scraper-1.2.7-py3-none-any.whl (28 kB)\n",
      "Installing collected packages: google-play-scraper\n",
      "Successfully installed google-play-scraper-1.2.7\n"
     ]
    }
   ],
   "source": [
    "!pip install google-play-scraper"
   ]
  },
  {
   "cell_type": "code",
   "execution_count": null,
   "metadata": {
    "executionInfo": {
     "elapsed": 581,
     "status": "ok",
     "timestamp": 1743605103107,
     "user": {
      "displayName": "Alifia Mustika Sari A463XBF048",
      "userId": "17434318796519857702"
     },
     "user_tz": -420
    },
    "id": "d0aaDkTL7phq"
   },
   "outputs": [],
   "source": [
    "# Mengimpor pustaka google_play_scraper untuk mengakses ulasan dan informasi aplikasi dari Google Play Store.\n",
    "from google_play_scraper import app, reviews, Sort, reviews_all\n",
    "import pandas as pd\n",
    "import os\n",
    "import csv"
   ]
  },
  {
   "cell_type": "code",
   "execution_count": 3,
   "metadata": {
    "colab": {
     "base_uri": "https://localhost:8080/"
    },
    "executionInfo": {
     "elapsed": 10,
     "status": "ok",
     "timestamp": 1743605103116,
     "user": {
      "displayName": "Alifia Mustika Sari A463XBF048",
      "userId": "17434318796519857702"
     },
     "user_tz": -420
    },
    "id": "rWWRkh9Ct7MM",
    "outputId": "dd03bd38-aa6a-4965-a497-c4ee880d373d"
   },
   "outputs": [
    {
     "name": "stdout",
     "output_type": "stream",
     "text": [
      "/content/drive/MyDrive/BPML/Proyek Analisis Sentimen\n"
     ]
    }
   ],
   "source": [
    "# Pindah ke direktori yang diinginkan\n",
    "os.chdir('/content/drive/MyDrive/BPML/Proyek Analisis Sentimen')\n",
    "\n",
    "# Cek apakah sudah berpindah\n",
    "print(os.getcwd())"
   ]
  },
  {
   "cell_type": "code",
   "execution_count": 4,
   "metadata": {
    "executionInfo": {
     "elapsed": 25973,
     "status": "ok",
     "timestamp": 1743605129089,
     "user": {
      "displayName": "Alifia Mustika Sari A463XBF048",
      "userId": "17434318796519857702"
     },
     "user_tz": -420
    },
    "id": "5BervJBy8INt"
   },
   "outputs": [],
   "source": [
    "# Mengambil 50000 ulasan aplikasi tokopedia\n",
    "scrapreview = reviews(\n",
    "    'com.gojek.app',\n",
    "    lang='id',\n",
    "    country='id',\n",
    "    sort=Sort.MOST_RELEVANT,\n",
    "    count = 50000,\n",
    ")"
   ]
  },
  {
   "cell_type": "code",
   "execution_count": 5,
   "metadata": {
    "colab": {
     "base_uri": "https://localhost:8080/"
    },
    "executionInfo": {
     "elapsed": 10,
     "status": "ok",
     "timestamp": 1743605129093,
     "user": {
      "displayName": "Alifia Mustika Sari A463XBF048",
      "userId": "17434318796519857702"
     },
     "user_tz": -420
    },
    "id": "1yJOufTo4IEJ",
    "outputId": "784405e0-a511-4ba6-f752-7dc11dbd609a"
   },
   "outputs": [
    {
     "name": "stdout",
     "output_type": "stream",
     "text": [
      "<class 'tuple'>\n",
      "<class 'list'>\n"
     ]
    }
   ],
   "source": [
    "print(type(scrapreview))\n",
    "print(type(scrapreview[0]))  # Lihat elemen pertama dalam list"
   ]
  },
  {
   "cell_type": "code",
   "execution_count": 6,
   "metadata": {
    "executionInfo": {
     "elapsed": 1738,
     "status": "ok",
     "timestamp": 1743605130825,
     "user": {
      "displayName": "Alifia Mustika Sari A463XBF048",
      "userId": "17434318796519857702"
     },
     "user_tz": -420
    },
    "id": "X5bZAqAV6ep3"
   },
   "outputs": [],
   "source": [
    "# Menyimpan hasil scrap ke dalam file csv\n",
    "data = pd.DataFrame(scrapreview[0])\n",
    "\n",
    "data.to_csv('data/ulasan_aplikasi_gojek_50K_mixed_score.csv', index=False)"
   ]
  }
 ],
 "metadata": {
  "colab": {
   "authorship_tag": "ABX9TyO8hAthLn4J1zIA1mtP7d6x",
   "mount_file_id": "1ii1keg4BUo2RX1GkybS9srsuveds_PVq",
   "provenance": []
  },
  "kernelspec": {
   "display_name": "Python 3",
   "name": "python3"
  },
  "language_info": {
   "name": "python"
  }
 },
 "nbformat": 4,
 "nbformat_minor": 0
}
